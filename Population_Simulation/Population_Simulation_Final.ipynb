{
 "cells": [
  {
   "cell_type": "code",
   "execution_count": 1,
   "metadata": {},
   "outputs": [
    {
     "name": "stdout",
     "output_type": "stream",
     "text": [
      "simuPOP Version 1.1.8.3 : Copyright (c) 2004-2016 Bo Peng\n",
      "Revision 4553 (Feb 11 2017) for Python 3.6.0 (64bit, 0thread)\n",
      "Random Number Generator is set to mt19937 with random seed 0xfb32a8ec.\n",
      "This is the standard short allele version with 256 maximum allelic states.\n",
      "For more information, please visit http://simupop.sourceforge.net,\n",
      "or email simupop-list@lists.sourceforge.net (subscription required).\n"
     ]
    }
   ],
   "source": [
    "import simuPOP as sim\n",
    "import random as ran\n",
    "from random import randint\n",
    "from random import choices"
   ]
  },
  {
   "cell_type": "code",
   "execution_count": 2,
   "metadata": {},
   "outputs": [],
   "source": [
    "#Global Variables\n",
    "n_people = 20000\n",
    "n_loci = 16\n",
    "n_subpop = 3\n",
    "n_gen = 10"
   ]
  },
  {
   "cell_type": "code",
   "execution_count": 3,
   "metadata": {},
   "outputs": [],
   "source": [
    "def randomChooser(pop, subPop):\n",
    "    males = []\n",
    "    females = []\n",
    "    # identify males and females in each social rank\n",
    "    for rank in range(3):\n",
    "        males.append([x for x in pop.individuals(subPop) \\\n",
    "            if x.sex() == sim.MALE and x.rank == rank])\n",
    "        females.append([x for x in pop.individuals(subPop) \\\n",
    "            if x.sex() == sim.FEMALE and x.rank == rank])\n",
    "    #\n",
    "    iter = 0\n",
    "    while True:\n",
    "        # choose a rank randomly\n",
    "        iter = iter + 1\n",
    "        #print(iter)\n",
    "        if iter > 1:\n",
    "            #last_randnum1 = randnum1\n",
    "            #last_randnum2 = randnum2            \n",
    "            if len(males[rank])>1:\n",
    "                if randint(0,4)>0: #80%\n",
    "                    del males[rank][randnum1]\n",
    "            #print('len_male: ',len(males[rank]))\n",
    "            if len(females[rank])>1:\n",
    "                if randint(0,4)>0: #80%\n",
    "                    del females[rank][randnum2]\n",
    "            #print('len_female: ',len(females[rank]))\n",
    "        rank = int(pop.individual(randint(0, pop.subPopSize(subPop) - 1), subPop).rank)\n",
    "        while len(males[rank])==0 or len(females[rank])==0:\n",
    "            rank = int(pop.individual(randint(0, pop.subPopSize(subPop) - 1), subPop).rank)\n",
    "        #print('rank: ',rank)\n",
    "        randnum1 = randint(0, len(males[rank]) - 1)\n",
    "        #print('randnum1: ',randnum1)\n",
    "        #print('male_birthyear: ',int(males[rank][randnum1].birth_year))\n",
    "        randnum2 = randint(0, len(females[rank]) - 1)\n",
    "        #print('randnum2: ',randnum2)\n",
    "        #print('female_birthyear: ',int(females[rank][randnum2].birth_year))\n",
    "        while males[rank][randnum1].birth_year > (females[rank][randnum2].birth_year + 2)\\\n",
    "        or males[rank][randnum1].birth_year < (females[rank][randnum2].birth_year - 12)\\\n",
    "        or males[rank][randnum1].wealth < females[rank][randnum2].wealth: #modified from 22 to 12 on 20180928\n",
    "            if randint(0,4)==0: #20%  # moved from the end of while loop to here on 20180928\n",
    "                break\n",
    "            #print('REDONE')\n",
    "            randnum1 = randint(0, len(males[rank]) - 1)\n",
    "            #print('randnum1: ',randnum1)\n",
    "            #print('male_birthyear: ',males[rank][randnum1].birth_year)\n",
    "            randnum2 = randint(0, len(females[rank]) - 1)\n",
    "            #print('randnum2: ',randnum2)\n",
    "            #print('female_birthyear: ',females[rank][randnum2].birth_year)\n",
    "        yield males[rank][randnum1], \\\n",
    "            females[rank][randnum2]"
   ]
  },
  {
   "cell_type": "code",
   "execution_count": 4,
   "metadata": {},
   "outputs": [],
   "source": [
    "pop = sim.Population([n_people]*n_subpop, loci=[n_loci],\\\n",
    "                     infoFields = ['ind_id', 'father_id', 'mother_id','migrate_to','x',\\\n",
    "                                  'rank', 'birth_year', 'state', 'wealth'], \n",
    "                     chromTypes=[sim.CHROMOSOME_Y], ancGen=-1)\n",
    "pop.setVirtualSplitter(sim.SexSplitter())\n"
   ]
  },
  {
   "cell_type": "code",
   "execution_count": 5,
   "metadata": {},
   "outputs": [],
   "source": [
    "#Initial surnames\n",
    "counts=[]\n",
    "with open('census_lastnames_freq.txt','r') as f:\n",
    "    for line in f.readlines():\n",
    "        counts.append(int(line))\n",
    "freqs=[]\n",
    "for i in range(len(counts)):\n",
    "    freqs.append(counts[i]/sum(counts))\n",
    "for i in range(1, len(freqs)):\n",
    "    freqs[i] = freqs[i-1] + freqs[i]\n",
    "for i in range(n_people*n_subpop):\n",
    "    r = ran.random()\n",
    "    for j in range(len(freqs)):\n",
    "        if r < freqs[j]:\n",
    "            name = j\n",
    "            break\n",
    "    pop.individual(i).x =name\n",
    "thefile = open('surname_origin.txt', 'w')\n",
    "for item in pop.indInfo('x'):\n",
    "    thefile.write(\"%s\\n\" % item)\n",
    "thefile.close()"
   ]
  },
  {
   "cell_type": "code",
   "execution_count": 6,
   "metadata": {},
   "outputs": [],
   "source": [
    "#Initial states\n",
    "counts=[]\n",
    "with open('State_statistics.txt','r') as f:\n",
    "    for line in f.readlines():\n",
    "        counts.append(int(line))\n",
    "freqs=[]\n",
    "for i in range(len(counts)):\n",
    "    freqs.append(counts[i]/sum(counts))\n",
    "for i in range(1, len(freqs)):\n",
    "    freqs[i] = freqs[i-1] + freqs[i]\n",
    "cumu_state_freqs=freqs\n",
    "for i in range(n_people*n_subpop): #\n",
    "    r = ran.random()\n",
    "    for j in range(len(freqs)):\n",
    "        if r < freqs[j]:\n",
    "            state = j\n",
    "            break\n",
    "    pop.individual(i).state =state"
   ]
  },
  {
   "cell_type": "code",
   "execution_count": 7,
   "metadata": {},
   "outputs": [],
   "source": [
    "#Initial incomes\n",
    "counts=[]\n",
    "with open('Income_statistics.txt','r') as f:\n",
    "    for line in f.readlines():\n",
    "        counts.append(int(line))\n",
    "freqs=[]\n",
    "for i in range(len(counts)):\n",
    "    freqs.append(counts[i]/sum(counts))\n",
    "for i in range(1, len(freqs)):\n",
    "    freqs[i] = freqs[i-1] + freqs[i]\n",
    "cumu_wealth_freqs=freqs\n",
    "for i in range(n_people*n_subpop): #\n",
    "    r = ran.random()\n",
    "    for j in range(len(freqs)):\n",
    "        if r < freqs[j]:\n",
    "            wealth = j\n",
    "            if wealth <= 15:\n",
    "                rank = 0\n",
    "            elif wealth <= 39:\n",
    "                rank = 1\n",
    "            else:\n",
    "                rank = 2            \n",
    "            break\n",
    "    pop.individual(i).wealth = wealth #wealth level\n",
    "    pop.individual(i).rank = rank"
   ]
  },
  {
   "cell_type": "code",
   "execution_count": 8,
   "metadata": {},
   "outputs": [],
   "source": [
    "counts=[]\n",
    "with open('Birth_Age_statistics.txt','r') as f:\n",
    "    for line in f.readlines():\n",
    "        counts.append(int(line))\n",
    "freqs=[]\n",
    "for i in range(len(counts)):\n",
    "    freqs.append(counts[i]/sum(counts))\n",
    "birth_age_freqs=freqs"
   ]
  },
  {
   "cell_type": "code",
   "execution_count": 9,
   "metadata": {},
   "outputs": [],
   "source": [
    "incre_rate=[]\n",
    "with open('Pop_Increase_stats.txt','r') as f:\n",
    "    for line in f.readlines():\n",
    "        incre_rate.append(line)"
   ]
  },
  {
   "cell_type": "code",
   "execution_count": 10,
   "metadata": {},
   "outputs": [],
   "source": [
    "##def demo(gen, pop):\n",
    "##    #incre_rate = [.333, .335, .356, .276, .15, .145]\n",
    "##    return [int(x*(1+incre_rate[gen])) for x in pop.subPopSizes()]\n",
    "def setBirthYear(birth_year):\n",
    "    age_range = [x for x in range(15, 35)]\n",
    "    mother_birth_age = choices(age_range, birth_age_freqs)\n",
    "    new_birth_year = birth_year[1] + mother_birth_age[0]\n",
    "    min_father_birth_year = birth_year[0] + 16\n",
    "    if new_birth_year < min_father_birth_year:\n",
    "        new_birth_year = min_father_birth_year\n",
    "    return new_birth_year\n",
    "def setRankandWealth(rank, wealth):\n",
    "    add_wealth = randint(-1, 1)\n",
    "    new_wealth = int((wealth[0] + wealth[1]) / 2 + add_wealth)\n",
    "    if new_wealth < 0:\n",
    "        mew_wealth =0\n",
    "    elif new_wealth >40:\n",
    "        new_walth = 40\n",
    "    if new_wealth <= 15:\n",
    "        new_rank = 0\n",
    "    elif new_wealth <= 39:\n",
    "        new_rank = 1\n",
    "    else:\n",
    "        new_rank = 2\n",
    "    return [new_rank, new_wealth]\n",
    "def setState(state):\n",
    "    freqs= cumu_state_freqs\n",
    "    move_draw = randint(1,3) # modified from (1,4) on 20180928\n",
    "    if move_draw == 1:\n",
    "        new_state = state[0]\n",
    "    elif move_draw ==2:\n",
    "        new_state = state[1]\n",
    "    else:\n",
    "        r = ran.random()\n",
    "        for j in range(len(freqs)):\n",
    "            if r < freqs[j]:\n",
    "                new_state = j\n",
    "                break\n",
    "    return new_state"
   ]
  },
  {
   "cell_type": "code",
   "execution_count": 11,
   "metadata": {},
   "outputs": [
    {
     "data": {
      "text/plain": [
       "9"
      ]
     },
     "execution_count": 11,
     "metadata": {},
     "output_type": "execute_result"
    }
   ],
   "source": [
    "pop.evolve(\n",
    "    initOps=[\n",
    "        sim.InitSex(sex=[sim.MALE, sim.FEMALE]),\n",
    "        sim.IdTagger(),\n",
    "        sim.InitInfo(lambda : randint(1720, 1749), infoFields='birth_year'),\n",
    "        #sim.InitGenotype(freq=[0]*12 + [0.01, 0.03, 0.17, 0.23, 0.28, 0.18, 0.07, 0.03]),#DYS458\n",
    "        sim.InitGenotype(freq=[0]*12 + [0.1, 0.36, 0.32, 0.16, 0.06], loci=0),#DYS19\n",
    "        sim.InitGenotype(freq=[0]*9 + [0.02, 0.16, 0.1, 0.15, 0.2, 0.09, 0.08, 0.07, 0.06, 0.04, 0.02, 0.01], loci=1),#DYS385\n",
    "        sim.InitGenotype(freq=[0]*11 + [0.28, 0.51, 0.2, 0.01], loci=2),#DYS389I\n",
    "        sim.InitGenotype(freq=[0]*26 + [0.03, 0.19, 0.34, 0.28, 0.12, 0.04], loci=3),#DYS389II\n",
    "        sim.InitGenotype(freq=[0]*20 + [0.05, 0.10, 0.30, 0.36, 0.17, 0.02], loci=4),#DYS390\n",
    "        sim.InitGenotype(freq=[0]*8 + [0.04, 0.63, 0.31, 0.02], loci=5),#DYS391\n",
    "        sim.InitGenotype(freq=[0]*9 + [0.02, 0.40, 0.07, 0.32, 0.16, 0.02, 0.01], loci=6),#DYS392\n",
    "        sim.InitGenotype(freq=[0]*10 + [0.01, 0.27, 0.54, 0.15, 0.03], loci=7),#DYS393\n",
    "        sim.InitGenotype(freq=[0]*12 + [0.01, 0.56, 0.34, 0.09], loci=8),#DYS437\n",
    "        sim.InitGenotype(freq=[0]*8 + [0.07, 0.46, 0.26, 0.19, 0.02], loci=9),#DYS438\n",
    "        sim.InitGenotype(freq=[0]*9 + [0.11, 0.35, 0.39, 0.13, 0.02], loci=10),#DYS439\n",
    "        sim.InitGenotype(freq=[0]*16 + [0.02, 0.15, 0.36, 0.33, 0.12, 0.02], loci=11),#DYS448\n",
    "        sim.InitGenotype(freq=[0]*12 + [0.02, 0.13, 0.50, 0.24, 0.09, 0.02], loci=12),#DYS456        \n",
    "        sim.InitGenotype(freq=[0]*12 + [0.01, 0.03, 0.17, 0.23, 0.28, 0.18, 0.07, 0.03], loci=13),#DYS458\n",
    "        sim.InitGenotype(freq=[0]*18 + [0.05, 0.13, 0.28, 0.16, 0.28, 0.08, 0.02], loci=14),#DYS635\n",
    "        sim.InitGenotype(freq=[0]*9 + [0.06, 0.37, 0.48, 0.09], loci=15),#GATA H4\n",
    "        sim.PedigreeTagger(output='>>pedigree.ped', outputLoci=range(n_loci))\n",
    "    ],\n",
    "    preOps=[\n",
    "        #sim.StepwiseMutator(rates=[1e-2]*15,loci=range(15), maxAllele=24),\n",
    "        sim.StepwiseMutator(rates=[1e-3*2.4],loci=0, maxAllele=20),#DYS19\n",
    "        sim.StepwiseMutator(rates=[1e-3*2.1],loci=1, maxAllele=28),#DYS385\n",
    "        sim.StepwiseMutator(rates=[1e-3*1.8],loci=2, maxAllele=17),#DYS389I\n",
    "        sim.StepwiseMutator(rates=[1e-3*2.8],loci=3, maxAllele=36),#DYS389II\n",
    "        sim.StepwiseMutator(rates=[1e-3*2.3],loci=4, maxAllele=30),#DYS390\n",
    "        sim.StepwiseMutator(rates=[1e-3*3.0],loci=5, maxAllele=16),#DYS391\n",
    "        sim.StepwiseMutator(rates=[1e-3*0.55],loci=6, maxAllele=20),#DYS392\n",
    "        sim.StepwiseMutator(rates=[1e-3*0.89],loci=7, maxAllele=18),#DYS393\n",
    "        sim.StepwiseMutator(rates=[1e-3*1.5],loci=8, maxAllele=22),#DYS437\n",
    "        sim.StepwiseMutator(rates=[1e-3*0.43],loci=9, maxAllele=19),#DYS438\n",
    "        sim.StepwiseMutator(rates=[1e-3*5.7],loci=10, maxAllele=19),#DYS439\n",
    "        sim.StepwiseMutator(rates=[1e-3*1.6],loci=11, maxAllele=25),#DYS448\n",
    "        sim.StepwiseMutator(rates=[1e-3*4.8],loci=12, maxAllele=23),#DYS456\n",
    "        sim.StepwiseMutator(rates=[1e-3*6.4],loci=13, maxAllele=24),#DYS458\n",
    "        sim.StepwiseMutator(rates=[1e-3*3.8],loci=14, maxAllele=30),#DYS635\n",
    "        sim.StepwiseMutator(rates=[1e-3*2.2],loci=15, maxAllele=20),#GATA H4\n",
    "        sim.Migrator(rate=[\n",
    "            [0, 0.1, 0.1],\n",
    "            [0.1, 0, 0.1],\n",
    "            [0.1, 0.1, 0]],\n",
    "            mode=sim.BY_PROPORTION,\n",
    "            step = 5),\n",
    "    ],\n",
    "    matingScheme=sim.HomoMating(\n",
    "        sim.PyParentsChooser(randomChooser),\n",
    "        sim.OffspringGenerator(ops=[\n",
    "            sim.MendelianGenoTransmitter(),\n",
    "            sim.IdTagger(),\n",
    "            sim.PedigreeTagger(output='>>pedigree.ped', outputLoci=range(n_loci)),\n",
    "            sim.InheritTagger(mode=sim.PATERNAL, infoFields = 'x'),\n",
    "            sim.PyTagger(setBirthYear),\n",
    "            sim.PyTagger(setRankandWealth),\n",
    "            sim.PyTagger(setState),\n",
    "            ],\n",
    "                               numOffspring=(sim.POISSON_DISTRIBUTION, 1.6),\n",
    "                               \n",
    "                              ),\n",
    "        #subPopSize=demo,\n",
    "    ),\n",
    "    \n",
    "    gen = n_gen-1\n",
    ")"
   ]
  },
  {
   "cell_type": "code",
   "execution_count": 12,
   "metadata": {},
   "outputs": [],
   "source": [
    "#output pedigree\n",
    "for i in range(3):\n",
    "    infile = open('pedigree.ped','r')\n",
    "    outfile = open('ped'+str(3-i)+'.txt', 'w')\n",
    "    j = 0\n",
    "    for line in infile.readlines():\n",
    "        if j >= (n_gen-1-i)*n_people*n_subpop and j < (n_gen-i)*n_people*n_subpop:\n",
    "            outfile.write(line)\n",
    "        j += 1\n",
    "    infile.close()\n",
    "    outfile.close()"
   ]
  },
  {
   "cell_type": "code",
   "execution_count": 13,
   "metadata": {},
   "outputs": [],
   "source": [
    "#output info fields\n",
    "for i in range(3):\n",
    "    pop.useAncestralGen(i)\n",
    "    thefile = open('surname'+str(3-i)+'.txt', 'w')\n",
    "    for item in pop.indInfo('x'):\n",
    "        thefile.write(\"%s\\n\" % item)\n",
    "    thefile.close()"
   ]
  },
  {
   "cell_type": "code",
   "execution_count": 14,
   "metadata": {},
   "outputs": [],
   "source": [
    "for i in range(3):\n",
    "    pop.useAncestralGen(i)\n",
    "    thefile = open('birth_year'+str(3-i)+'.txt', 'w')\n",
    "    for item in pop.indInfo('birth_year'):\n",
    "        thefile.write(\"%s\\n\" % int(item))\n",
    "    thefile.close()"
   ]
  },
  {
   "cell_type": "code",
   "execution_count": 15,
   "metadata": {},
   "outputs": [],
   "source": [
    "for i in range(3):\n",
    "    pop.useAncestralGen(i)\n",
    "    thefile = open('rank'+str(3-i)+'.txt', 'w')\n",
    "    for item in pop.indInfo('rank'):\n",
    "        thefile.write(\"%s\\n\" % int(item))\n",
    "    thefile.close()"
   ]
  },
  {
   "cell_type": "code",
   "execution_count": 16,
   "metadata": {},
   "outputs": [],
   "source": [
    "for i in range(3):\n",
    "    pop.useAncestralGen(i)\n",
    "    thefile = open('state'+str(3-i)+'.txt', 'w')\n",
    "    for item in pop.indInfo('state'):\n",
    "        thefile.write(\"%s\\n\" % int(item))\n",
    "    thefile.close()"
   ]
  },
  {
   "cell_type": "code",
   "execution_count": 17,
   "metadata": {},
   "outputs": [],
   "source": [
    "for i in range(3):\n",
    "    pop.useAncestralGen(i)\n",
    "    thefile = open('wealth'+str(3-i)+'.txt', 'w')\n",
    "    for item in pop.indInfo('wealth'):\n",
    "        thefile.write(\"%s\\n\" % int(item))\n",
    "    thefile.close()"
   ]
  }
 ],
 "metadata": {
  "kernelspec": {
   "display_name": "Python 3",
   "language": "python",
   "name": "python3"
  },
  "language_info": {
   "codemirror_mode": {
    "name": "ipython",
    "version": 3
   },
   "file_extension": ".py",
   "mimetype": "text/x-python",
   "name": "python",
   "nbconvert_exporter": "python",
   "pygments_lexer": "ipython3",
   "version": "3.6.3"
  }
 },
 "nbformat": 4,
 "nbformat_minor": 2
}
